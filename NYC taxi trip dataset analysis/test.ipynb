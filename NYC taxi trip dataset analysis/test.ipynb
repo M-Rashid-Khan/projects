{
 "cells": [
  {
   "cell_type": "code",
   "execution_count": 8,
   "metadata": {},
   "outputs": [],
   "source": [
    "import csv\n",
    "with open('trip_data_7.csv') as f: \n",
    "    data = [{k:str(v) for k, v in row.items()}\n",
    "           for row in csv.DictReader(f, skipinitialspace=True)]\n"
   ]
  },
  {
   "cell_type": "code",
   "execution_count": 27,
   "metadata": {},
   "outputs": [
    {
     "name": "stdout",
     "output_type": "stream",
     "text": [
      "Current date/time: 2022-10-24 13:37:27.758019\n"
     ]
    }
   ],
   "source": [
    "import datetime\n",
    "print ('Current date/time: {}'.format(datetime.datetime.now()))"
   ]
  },
  {
   "cell_type": "code",
   "execution_count": 1,
   "metadata": {},
   "outputs": [
    {
     "name": "stdout",
     "output_type": "stream",
     "text": [
      "Range - upper vs lower of dates and time for pickup_datetime attribute in the data:   2013-07-31 23:59:59 2013-07-01 00:00:00\n",
      "Total rows are:  1\n"
     ]
    }
   ],
   "source": [
    "import csv \n",
    "# import time\n",
    "import datetime\n",
    "# n=0\n",
    "# start= time.time()\n",
    "max_dtime = None\n",
    "min_dtime = None\n",
    "\n",
    "with open('trip_data_7.csv', 'r') as f: \n",
    "    reader = csv.reader(f)\n",
    "    n = 0\n",
    "    for i,line in enumerate(reader):\n",
    "        if i == 1:\n",
    "            max_dtime= datetime.datetime.strptime(line[5],'%Y-%m-%d %H:%M:%S')\n",
    "            min_dtime= datetime.datetime.strptime(line[5],'%Y-%m-%d %H:%M:%S')\n",
    "        #print(type(max_dtime),type(min_dtime))\n",
    "        \n",
    "        if i>1 and datetime.datetime.strptime(line[5],'%Y-%m-%d %H:%M:%S') > max_dtime:\n",
    "            max_dtime= datetime.datetime.strptime(line[5],'%Y-%m-%d %H:%M:%S')\n",
    "        if i>1 and datetime.datetime.strptime(line[5],'%Y-%m-%d %H:%M:%S') < min_dtime:\n",
    "            min_dtime = datetime.datetime.strptime(line[5],'%Y-%m-%d %H:%M:%S')\n",
    "        n+=1\n",
    "    \n",
    "    \n",
    "#         if i == 20:\n",
    "#             print(max_dtime, min_dtime)\n",
    "#             break\n",
    "print(\"Range - upper vs lower of dates and time for pickup_datetime attribute in the data:  \" , max_dtime, min_dtime)\n",
    "print(\"Total rows are: \", n)"
   ]
  },
  {
   "cell_type": "code",
   "execution_count": 1,
   "metadata": {},
   "outputs": [
    {
     "name": "stdout",
     "output_type": "stream",
     "text": [
      "Field Names:  ['medallion', ' hack_license', ' vendor_id', ' rate_code', ' store_and_fwd_flag', ' pickup_datetime', ' dropoff_datetime', ' passenger_count', ' trip_time_in_secs', ' trip_distance', ' pickup_longitude', ' pickup_latitude', ' dropoff_longitude', ' dropoff_latitude']\n"
     ]
    }
   ],
   "source": [
    "import csv \n",
    "# import time\n",
    "import datetime\n",
    "with open('trip_data_7.csv', 'r') as f: \n",
    "    reader = csv.reader(f)\n",
    "    for i,line in enumerate(reader):\n",
    "        print('Field Names: ', line)\n",
    "        break"
   ]
  },
  {
   "cell_type": "code",
   "execution_count": 2,
   "metadata": {},
   "outputs": [
    {
     "name": "stdout",
     "output_type": "stream",
     "text": [
      "['medallion', ' hack_license', ' vendor_id', ' rate_code', ' store_and_fwd_flag', ' pickup_datetime', ' dropoff_datetime', ' passenger_count', ' trip_time_in_secs', ' trip_distance', ' pickup_longitude', ' pickup_latitude', ' dropoff_longitude', ' dropoff_latitude']\n",
      "['9406D2C34715E1DA10AD4D4DDADF4DA5', '0602DFD837433635FE860BDE2F14BC3A', 'VTS', '1', '', '2013-07-01 01:47:00', '2013-07-01 01:52:00', '1', '300', '1.17', '-74.013229', '40.714718', '-74.003494', '40.725285']\n",
      "['73495B48481E673AD8D7578764C9EC98', '66DA261DA2E0305435786C152085CCC2', 'VTS', '1', '', '2013-07-01 01:39:00', '2013-07-01 01:52:00', '1', '780', '4.17', '-73.980865', '40.763947', '-73.933884', '40.767677']\n",
      "['85B6168FC88F4914E4741015B1678BF4', 'C2DB36C1124AB69269DBE1D3D39D37DB', 'VTS', '1', '', '2013-07-01 01:36:00', '2013-07-01 01:50:00', '1', '840', '2.98', '-74.007568', '40.740898', '-73.980118', '40.713985']\n",
      "['85B6168FC88F4914E4741015B1678BF4', 'C2DB36C1124AB69269DBE1D3D39D37DB', 'VTS', '1', '', '2013-07-01 01:53:00', '2013-07-01 01:57:00', '1', '240', '.75', '-73.985466', '40.718342', '-73.982841', '40.727016']\n",
      "['8C6CFF1ED34957DCF1547C3C38EE0490', '65AB951A1B846C3B0581A8A473830F73', 'VTS', '1', '', '2013-07-01 01:47:00', '2013-07-01 01:59:00', '1', '720', '1.76', '-74.00563', '40.726448', '-74.003906', '40.742031']\n"
     ]
    }
   ],
   "source": [
    "import csv \n",
    "# import time\n",
    "import datetime\n",
    "\n",
    "with open('trip_data_7.csv', 'r') as f: \n",
    "    reader = csv.reader(f)\n",
    "    for i,line in enumerate(reader):\n",
    "        print(line)\n",
    "        if i > 1:\n",
    "            \n",
    "        if i == 5:\n",
    "            break\n"
   ]
  },
  {
   "cell_type": "code",
   "execution_count": null,
   "metadata": {},
   "outputs": [],
   "source": []
  },
  {
   "cell_type": "markdown",
   "metadata": {},
   "source": [
    "| Field | dtype (SQL)    |\n",
    "| :---:   | :---: |\n",
    "| medallion | varchar(50)  |\n",
    "| hack_license | varchar(50) |\n",
    "| vendor_id | varchar(5) |\n",
    "| rate_code | int(10) |\n",
    "| store_and_fwd_flag | bool |\n",
    "| pickup_datetime | datetime |\n",
    "| dropoff_datetime | datetime |\n",
    "| passenger_count | int(10) |\n",
    "| trip_time_in_secs | int(10) |\n",
    "| trip_distance | Decimal(5,5) |\n",
    "| pickup_longitude | Decimal(9,6) |\n",
    "| pickup_latitude | Decimal(8,6) |\n",
    "| dropoff_longitude | Decimal(9,6) |\n",
    "| dropoff_latitude | Decimal(8,6) |"
   ]
  },
  {
   "cell_type": "code",
   "execution_count": 4,
   "metadata": {},
   "outputs": [],
   "source": [
    "\n",
    "            "
   ]
  },
  {
   "cell_type": "code",
   "execution_count": 59,
   "metadata": {},
   "outputs": [
    {
     "name": "stdout",
     "output_type": "stream",
     "text": [
      "[-74.013229,40.714718],[-74.003494,40.725285],[-73.980865,40.763947],[-73.933884,40.767677],[-74.007568,40.740898],[-73.980118,40.713985],[-73.985466,40.718342],[-73.982841,40.727016],[-74.00563,40.726448],[-74.003906,40.742031],[-74.006493,40.737938],[-74.00499,40.752167],[-73.996078,40.759724],[-74.007454,40.748444],[-73.991798,40.759712],[-74.001923,40.750771],[-74.006699,40.739395],[-74.008995,40.729649],[-73.782082,40.644661],[-73.751389,40.777012],[-74.013229,40.714718]\n"
     ]
    }
   ],
   "source": [
    "import csv \n",
    "# import time\n",
    "import datetime\n",
    "with open('trip_data_7.csv', 'r') as f: \n",
    "    reader = csv.reader(f)\n",
    "    n = 0\n",
    "    fs = \"\"\n",
    "    for i,line in enumerate(reader):\n",
    "        if i==1:\n",
    "            pick_max_long = line[10]\n",
    "            pick_max_lat = line[11]\n",
    "            drop_min_long = line[12]\n",
    "            drop_min_lat = line[13]\n",
    "        if i >=  1:\n",
    "            p0= \"[\"\n",
    "            p1 = line[10]\n",
    "            p2 = \",\"\n",
    "            p3 = line[11]\n",
    "            p4 = \"]\"\n",
    "            s = p0 + p1 + p2 + p3 + p4\n",
    "            #print(s)\n",
    "            fs += s\n",
    "            fs += \",\"\n",
    "            s = \"\"\n",
    "            \n",
    "            p0= \"[\"\n",
    "            p1 = line[12]\n",
    "            p2 = \",\"\n",
    "            p3 = line[13]\n",
    "            p4 = \"]\"\n",
    "            s = p0 + p1 + p2 + p3 + p4\n",
    "            \n",
    "            fs += s\n",
    "            fs += \",\"\n",
    "            s = \"\"\n",
    "            \n",
    "            if i == 10:\n",
    "                p0= \"[\"\n",
    "                p1 = pick_max_long\n",
    "                p2 = \",\"\n",
    "                p3 = pick_max_lat\n",
    "                p4 = \"]\"\n",
    "                s += p0 + p1 + p2 + p3 + p4\n",
    "                fs += s\n",
    "                s = \"\"\n",
    "                print(fs)\n",
    "                break\n",
    "              "
   ]
  },
  {
   "cell_type": "code",
   "execution_count": 2,
   "metadata": {},
   "outputs": [
    {
     "name": "stdout",
     "output_type": "stream",
     "text": [
      "-73.980865\n"
     ]
    }
   ],
   "source": []
  },
  {
   "cell_type": "code",
   "execution_count": 2,
   "metadata": {},
   "outputs": [],
   "source": [
    "def haversine(lon1, lat1, lon2, lat2):\n",
    "    \"\"\"\n",
    "    Calculate the great circle distance in kilometers between two points \n",
    "    on the earth (specified in decimal degrees)\n",
    "    \"\"\"\n",
    "    # convert decimal degrees to radians \n",
    "    lon1, lat1, lon2, lat2 = map(radians, [lon1, lat1, lon2, lat2])\n",
    "\n",
    "    # haversine formula \n",
    "    dlon = lon2 - lon1 \n",
    "    dlat = lat2 - lat1 \n",
    "    a = sin(dlat/2)**2 + cos(lat1) * cos(lat2) * sin(dlon/2)**2\n",
    "    c = 2 * asin(sqrt(a)) \n",
    "    r = 6371 # Radius of earth in kilometers. Use 3956 for miles. Determines return value units.\n",
    "    return c * r"
   ]
  },
  {
   "cell_type": "code",
   "execution_count": 5,
   "metadata": {},
   "outputs": [
    {
     "name": "stdout",
     "output_type": "stream",
     "text": [
      "Error in distance :  699\n",
      "13823142\n",
      "Avg. Haversine-Distance = 17.596408730518675\n"
     ]
    }
   ],
   "source": [
    "#using the above method for finding haversine for distance b/w two points (GPS)\n",
    "import csv\n",
    "from math import radians, cos, sin, asin, sqrt\n",
    "f = open(\"trip_data_7.csv\", 'r')\n",
    "reader = csv.reader(f)\n",
    "i=0\n",
    "total_distance = 0.0\n",
    "error =0\n",
    "d_list = []\n",
    "trip_distance = []\n",
    "for row in reader:\n",
    "  i+=1\n",
    "  try:\n",
    "    lon1,lat1,lon2,lat2 = float(row[10]),float(row[11]),float(row[12]),float(row[13])\n",
    "    d = haversine(lon1,lat1,lon2,lat2)\n",
    "    trip_distance.append(d)\n",
    "    total_distance += d\n",
    "    d_list.append(total_distance)\n",
    "  except Exception as e:\n",
    "    error +=1\n",
    "print(\"Error in distance : \", error)\n",
    "d = i-error\n",
    "print(d)\n",
    "print(\"Avg. Haversine-Distance =\", total_distance/d)"
   ]
  },
  {
   "cell_type": "code",
   "execution_count": 8,
   "metadata": {},
   "outputs": [
    {
     "data": {
      "image/png": "[encoded data removed]",
      "text/plain": [
       "<Figure size 720x504 with 1 Axes>"
      ]
     },
     "metadata": {},
     "output_type": "display_data"
    }
   ],
   "source": [
    "from matplotlib import pyplot as plt\n",
    "plt.style.use('seaborn')\n",
    "fig, ax = plt.subplots(figsize =(10, 7))\n",
    "ax.hist(trip_distance, bins = [0,5,10,15,20,25,30])\n",
    "plt.show()"
   ]
  },
  {
   "cell_type": "code",
   "execution_count": null,
   "metadata": {},
   "outputs": [],
   "source": [
    "# geos = []\n",
    "# for longs,lats in LongLatList\n",
    "#     poly = {\n",
    "#         'type': 'Polygon',\n",
    "#         'coordinates': [[lon,lat] for lon,lat in zip(longs,lats) ]\n",
    "#     }\n",
    "#     geos.append(poly)"
   ]
  },
  {
   "cell_type": "code",
   "execution_count": 5,
   "metadata": {},
   "outputs": [
    {
     "name": "stdout",
     "output_type": "stream",
     "text": [
      "POINT (0 0)\n"
     ]
    }
   ],
   "source": [
    "import pandas as pd\n",
    "df= pd.read_csv('trip_data_7.csv')"
   ]
  },
  {
   "cell_type": "code",
   "execution_count": null,
   "metadata": {},
   "outputs": [],
   "source": [
    "df[\" vendor_id\"].unique()"
   ]
  },
  {
   "cell_type": "code",
   "execution_count": null,
   "metadata": {},
   "outputs": [],
   "source": [
    "df[\" rate_code\"].unique()"
   ]
  },
  {
   "cell_type": "code",
   "execution_count": null,
   "metadata": {},
   "outputs": [],
   "source": [
    "df[\" store_and_fwd_flag\"].unqiue()"
   ]
  },
  {
   "cell_type": "code",
   "execution_count": null,
   "metadata": {},
   "outputs": [],
   "source": [
    "df[\" passenger_count\"].unique()"
   ]
  },
  {
   "cell_type": "code",
   "execution_count": null,
   "metadata": {},
   "outputs": [],
   "source": [
    "print('rate_code min: ' , df[\" rate_code\"].min())\n",
    "print('rate_code max: ' , df[\" rate_code\"].max())"
   ]
  },
  {
   "cell_type": "code",
   "execution_count": null,
   "metadata": {},
   "outputs": [],
   "source": [
    "print('trip_time_in_secs min:' , df[\" trip_time_in_secs\"].min())\n",
    "print('trip_time_in_secs max:' , df[\" trip_time_in_secs\"].max())"
   ]
  },
  {
   "cell_type": "code",
   "execution_count": null,
   "metadata": {},
   "outputs": [],
   "source": [
    "print('trip_distance min:' , df[\" trip_distance\"].min())\n",
    "print('trip_distance max:' , df[\" trip_distance\"].max())"
   ]
  },
  {
   "cell_type": "code",
   "execution_count": 1,
   "metadata": {},
   "outputs": [
    {
     "data": {
      "image/png": "[encoded data removed]",
      "text/plain": [
       "<Figure size 1440x432 with 1 Axes>"
      ]
     },
     "metadata": {},
     "output_type": "display_data"
    }
   ],
   "source": [
    "import datetime\n",
    "import csv\n",
    "f = open(\"trip_data_7.csv\", 'r')\n",
    "reader = csv.reader(f)\n",
    "for i,line in enumerate(reader):\n",
    "    if i == 1:\n",
    "        print(line[5])\n",
    "    break\n",
    "exp =0\n",
    "n=0\n",
    "pcl =  [0,0,0,0,0,0,0,0,0,0,0,0,0,0,0,0,0,0,0,0,0,0,0,0]\n",
    "hc =  [0,0,0,0,0,0,0,0,0,0,0,0,0,0,0,0,0,0,0,0,0,0,0,0]\n",
    "for row in reader:\n",
    "    n+=1\n",
    "    try:\n",
    "        dts = row[5]\n",
    "        dto = datetime.datetime.strptime(dts,\"%Y-%m-%d %H:%M:%S\")\n",
    "    except Exception as e:\n",
    "        exp+=1\n",
    "        print(e)\n",
    "    h = dto.hour  \n",
    "        \n",
    "    try:\n",
    "        ipc = int(row[7])    \n",
    "        hc[h]+=1\n",
    "        pcl[h]+=ipc\n",
    "        \n",
    "    except Exception as e:\n",
    "        print(e)\n",
    "\n",
    "averages = []\n",
    "\n",
    "for i in range(len(hc)):\n",
    "    averages.append(pcl[i]/hc[i])\n",
    "    \n",
    "from matplotlib import pyplot as plt\n",
    "plt.style.use('seaborn') \n",
    "plt.figure(figsize=(20,6))\n",
    "plt.xlabel('Hour of the day')\n",
    "plt.ylabel('Average number of taxi passengers')\n",
    "plt.title('Average number of taxi passengers for each hour of the day')\n",
    "plt.bar(x=range(0,24), height=averages)\n",
    "plt.show()"
   ]
  },
  {
   "cell_type": "code",
   "execution_count": 2,
   "metadata": {},
   "outputs": [
    {
     "name": "stdout",
     "output_type": "stream",
     "text": [
      "13823841 13824\n"
     ]
    },
    {
     "data": {
      "text/plain": [
       "<function TextIOWrapper.close()>"
      ]
     },
     "execution_count": 2,
     "metadata": {},
     "output_type": "execute_result"
    }
   ],
   "source": [
    "import csv\n",
    "fn = 'trip_data_7.csv'\n",
    "f = open(fn, 'r')\n",
    "reader = csv.reader(f)\n",
    "fnew = open('new.csv', 'w')\n",
    "fnew.write('')\n",
    "fnew.close()\n",
    "fnew = open('new.csv', 'w')\n",
    "writer = csv.writer(fnew,delimiter=',',lineterminator='\\n')\n",
    "n = 0\n",
    "nn=0\n",
    "for row in reader:\n",
    "    if n % 1000 == 0:\n",
    "        nn+=1\n",
    "        writer.writerow(row)\n",
    "    n+=1\n",
    "fnew.close"
   ]
  },
  {
   "cell_type": "code",
   "execution_count": 3,
   "metadata": {},
   "outputs": [
    {
     "name": "stdout",
     "output_type": "stream",
     "text": [
      "time data ' pickup_datetime' does not match format '%Y-%m-%d %H:%M:%S'\n",
      "invalid literal for int() with base 10: ' passenger_count'\n"
     ]
    },
    {
     "data": {
      "image/png": "[encoded data removed]",
      "text/plain": [
       "<Figure size 1440x432 with 1 Axes>"
      ]
     },
     "metadata": {},
     "output_type": "display_data"
    }
   ],
   "source": [
    "import datetime,csv\n",
    "f = open(\"new.csv\", 'r')\n",
    "reader = csv.reader(f)\n",
    "exp =0\n",
    "n=0\n",
    "pcl =  [0,0,0,0,0,0,0,0,0,0,0,0,0,0,0,0,0,0,0,0,0,0,0,0]\n",
    "hc =  [0,0,0,0,0,0,0,0,0,0,0,0,0,0,0,0,0,0,0,0,0,0,0,0]\n",
    "for row in reader:\n",
    "    n+=1\n",
    "    try:\n",
    "        dts = row[5]\n",
    "        dto = datetime.datetime.strptime(dts,\"%Y-%m-%d %H:%M:%S\")\n",
    "    except Exception as e:\n",
    "        exp+=1\n",
    "        print(e)\n",
    "    h = dto.hour          \n",
    "    try:\n",
    "        ipc = int(row[7])    \n",
    "        hc[h]+=1\n",
    "        pcl[h]+=ipc      \n",
    "    except Exception as e:\n",
    "        print(e)\n",
    "averages = []\n",
    "for i in range(len(hc)):\n",
    "    averages.append(pcl[i]/hc[i])   \n",
    "from matplotlib import pyplot as plt\n",
    "plt.style.use('seaborn')\n",
    "plt.figure(figsize=(20,6))\n",
    "plt.xlabel('Hour of the day')\n",
    "plt.ylabel('Average number of taxi passengers')\n",
    "plt.title('Average number of taxi passengers for each hour of the day')\n",
    "plt.bar(x=range(0,24), height=averages)\n",
    "plt.show()"
   ]
  },
  {
   "cell_type": "code",
   "execution_count": 1,
   "metadata": {
    "collapsed": true,
    "jupyter": {
     "outputs_hidden": true
    }
   },
   "outputs": [
    {
     "ename": "NameError",
     "evalue": "name 'data' is not defined",
     "output_type": "error",
     "traceback": [
      "\u001b[1;31m---------------------------------------------------------------------------\u001b[0m",
      "\u001b[1;31mNameError\u001b[0m                                 Traceback (most recent call last)",
      "\u001b[1;32m<ipython-input-1-226c7532f9b3>\u001b[0m in \u001b[0;36m<module>\u001b[1;34m\u001b[0m\n\u001b[1;32m----> 1\u001b[1;33m \u001b[0mprint\u001b[0m\u001b[1;33m(\u001b[0m\u001b[0mrange\u001b[0m\u001b[1;33m(\u001b[0m\u001b[0mdata\u001b[0m\u001b[1;33m)\u001b[0m\u001b[1;33m)\u001b[0m\u001b[1;33m\u001b[0m\u001b[1;33m\u001b[0m\u001b[0m\n\u001b[0m\u001b[0;32m      2\u001b[0m \u001b[1;31m# for l in data:\u001b[0m\u001b[1;33m\u001b[0m\u001b[1;33m\u001b[0m\u001b[1;33m\u001b[0m\u001b[0m\n\u001b[0;32m      3\u001b[0m \u001b[1;31m#     print(l)\u001b[0m\u001b[1;33m\u001b[0m\u001b[1;33m\u001b[0m\u001b[1;33m\u001b[0m\u001b[0m\n\u001b[0;32m      4\u001b[0m \u001b[1;31m#     if l ==10:\u001b[0m\u001b[1;33m\u001b[0m\u001b[1;33m\u001b[0m\u001b[1;33m\u001b[0m\u001b[0m\n\u001b[0;32m      5\u001b[0m \u001b[1;31m#         break\u001b[0m\u001b[1;33m\u001b[0m\u001b[1;33m\u001b[0m\u001b[1;33m\u001b[0m\u001b[0m\n",
      "\u001b[1;31mNameError\u001b[0m: name 'data' is not defined"
     ]
    }
   ],
   "source": [
    "# print(range(data))\n",
    "# for l in data: \n",
    "#     print(l)\n",
    "#     if l ==10: \n",
    "#         break\n",
    "        \n",
    "# print(data[0][\"pickup_datetime\"])\n",
    "# print(data[1][\"pickup_datetime\"])\n",
    "\n",
    "# d1 = data[0][\"pickup_datetime\"]\n",
    "# d2 = data[1][\"pickup_datetime\"]\n",
    "\n",
    "# print(d1<d2)\n",
    "\n",
    "# max_dtime = None\n",
    "# min_dtime = None\n",
    "\n",
    "# for i in range(data):\n",
    "    \n",
    "#     for line in data:\n",
    "#         if line[i][\"pickup_datetime\"] > max_dtime: \n",
    "#             max_dtime = line[i][\"pickup_datetime\"]\n",
    "#         if line[i][\"pickup_datetime\"] < min_dtime:\n",
    "#             min_dtime = line[i][\"pickup_datetime\"]\n",
    "#         print(i,line)\n",
    "#         break\n",
    "# print(max_dtime, min_dtime)\n"
   ]
  },
  {
   "cell_type": "code",
   "execution_count": 7,
   "metadata": {
    "collapsed": true,
    "jupyter": {
     "outputs_hidden": true
    }
   },
   "outputs": [
    {
     "name": "stdout",
     "output_type": "stream",
     "text": [
      "<_csv.reader object at 0x00000248456197C0>\n",
      "0 medallion\n",
      "1 0602DFD837433635FE860BDE2F14BC3A\n",
      "2 VTS\n",
      "3 1\n",
      "4 \n",
      "5 2013-07-01 01:47:00\n",
      "6 2013-07-01 01:58:00\n",
      "7 5\n",
      "8 240\n",
      "9 .98\n",
      "10 -73.782082\n",
      "11 40.750526\n",
      "12 -73.974854\n",
      "13 40.785069\n"
     ]
    },
    {
     "ename": "IndexError",
     "evalue": "list index out of range",
     "output_type": "error",
     "traceback": [
      "\u001b[1;31m---------------------------------------------------------------------------\u001b[0m",
      "\u001b[1;31mIndexError\u001b[0m                                Traceback (most recent call last)",
      "\u001b[1;32m<ipython-input-7-6a09a99df0b1>\u001b[0m in \u001b[0;36m<module>\u001b[1;34m\u001b[0m\n\u001b[0;32m      7\u001b[0m     \u001b[0mprint\u001b[0m\u001b[1;33m(\u001b[0m\u001b[0mreader\u001b[0m\u001b[1;33m)\u001b[0m\u001b[1;33m\u001b[0m\u001b[1;33m\u001b[0m\u001b[0m\n\u001b[0;32m      8\u001b[0m     \u001b[1;32mfor\u001b[0m \u001b[0mi\u001b[0m\u001b[1;33m,\u001b[0m\u001b[0mline\u001b[0m \u001b[1;32min\u001b[0m \u001b[0menumerate\u001b[0m\u001b[1;33m(\u001b[0m\u001b[0mreader\u001b[0m\u001b[1;33m)\u001b[0m\u001b[1;33m:\u001b[0m\u001b[1;33m\u001b[0m\u001b[1;33m\u001b[0m\u001b[0m\n\u001b[1;32m----> 9\u001b[1;33m         \u001b[0mprint\u001b[0m\u001b[1;33m(\u001b[0m\u001b[0mi\u001b[0m\u001b[1;33m,\u001b[0m \u001b[0mline\u001b[0m\u001b[1;33m[\u001b[0m\u001b[0mi\u001b[0m\u001b[1;33m]\u001b[0m\u001b[1;33m)\u001b[0m\u001b[1;33m\u001b[0m\u001b[1;33m\u001b[0m\u001b[0m\n\u001b[0m\u001b[0;32m     10\u001b[0m         \u001b[1;32mif\u001b[0m \u001b[0mi\u001b[0m \u001b[1;33m==\u001b[0m \u001b[1;36m20\u001b[0m\u001b[1;33m:\u001b[0m\u001b[1;33m\u001b[0m\u001b[1;33m\u001b[0m\u001b[0m\n\u001b[0;32m     11\u001b[0m             \u001b[1;32mbreak\u001b[0m\u001b[1;33m\u001b[0m\u001b[1;33m\u001b[0m\u001b[0m\n",
      "\u001b[1;31mIndexError\u001b[0m: list index out of range"
     ]
    }
   ],
   "source": [
    "# import csv \n",
    "# import time\n",
    "# # n=0\n",
    "# # start= time.time()\n",
    "# with open('trip_data_7.csv', 'r') as f: \n",
    "#     reader = csv.reader(f)\n",
    "#     for i,line in enumerate(reader):\n",
    "#         print(i, line[i])\n",
    "#         if i == 20:\n",
    "#             break\n",
    "    \n",
    "#         if 'VTS' in line[3]:\n",
    "#             n+=1\n",
    "# print(\"Total time:  \" + str(time.time() - start))"
   ]
  },
  {
   "cell_type": "code",
   "execution_count": 7,
   "metadata": {
    "collapsed": true,
    "jupyter": {
     "outputs_hidden": true
    }
   },
   "outputs": [
    {
     "name": "stderr",
     "output_type": "stream",
     "text": [
      "E:\\apps\\anaconda\\lib\\site-packages\\IPython\\core\\interactiveshell.py:3146: DtypeWarning: Columns (4) have mixed types.Specify dtype option on import or set low_memory=False.\n",
      "  has_raised = await self.run_ast_nodes(code_ast.body, cell_name,\n"
     ]
    },
    {
     "data": {
      "text/html": [
       "<div>\n",
       "<style scoped>\n",
       "    .dataframe tbody tr th:only-of-type {\n",
       "        vertical-align: middle;\n",
       "    }\n",
       "\n",
       "    .dataframe tbody tr th {\n",
       "        vertical-align: top;\n",
       "    }\n",
       "\n",
       "    .dataframe thead th {\n",
       "        text-align: right;\n",
       "    }\n",
       "</style>\n",
       "<table border=\"1\" class=\"dataframe\">\n",
       "  <thead>\n",
       "    <tr style=\"text-align: right;\">\n",
       "      <th></th>\n",
       "      <th>medallion</th>\n",
       "      <th>hack_license</th>\n",
       "      <th>vendor_id</th>\n",
       "      <th>rate_code</th>\n",
       "      <th>store_and_fwd_flag</th>\n",
       "      <th>pickup_datetime</th>\n",
       "      <th>dropoff_datetime</th>\n",
       "      <th>passenger_count</th>\n",
       "      <th>trip_time_in_secs</th>\n",
       "      <th>trip_distance</th>\n",
       "      <th>pickup_longitude</th>\n",
       "      <th>pickup_latitude</th>\n",
       "      <th>dropoff_longitude</th>\n",
       "      <th>dropoff_latitude</th>\n",
       "    </tr>\n",
       "  </thead>\n",
       "  <tbody>\n",
       "    <tr>\n",
       "      <th>1456979</th>\n",
       "      <td>59A3962EF65E5B44C804E842F5F7D04C</td>\n",
       "      <td>1D4EF564697EFE2C4CB60668988CDD23</td>\n",
       "      <td>VTS</td>\n",
       "      <td>1</td>\n",
       "      <td>NaN</td>\n",
       "      <td>2013-07-16 23:25:00</td>\n",
       "      <td>2013-07-16 23:47:00</td>\n",
       "      <td>1</td>\n",
       "      <td>1320</td>\n",
       "      <td>4.92</td>\n",
       "      <td>-73.987663</td>\n",
       "      <td>40.748253</td>\n",
       "      <td>-73.951500</td>\n",
       "      <td>40.710869</td>\n",
       "    </tr>\n",
       "    <tr>\n",
       "      <th>2245313</th>\n",
       "      <td>F3F85F66A0CB41DBF3386621C35F7030</td>\n",
       "      <td>86C610305A36FF53508F34C08D021DA4</td>\n",
       "      <td>VTS</td>\n",
       "      <td>1</td>\n",
       "      <td>NaN</td>\n",
       "      <td>2013-07-03 22:39:00</td>\n",
       "      <td>2013-07-03 23:07:00</td>\n",
       "      <td>1</td>\n",
       "      <td>1680</td>\n",
       "      <td>4.17</td>\n",
       "      <td>-74.003624</td>\n",
       "      <td>40.723835</td>\n",
       "      <td>-73.980698</td>\n",
       "      <td>40.762962</td>\n",
       "    </tr>\n",
       "    <tr>\n",
       "      <th>10784913</th>\n",
       "      <td>5E58DD84EB159B99D70618A36987F3AE</td>\n",
       "      <td>FCB409DEF4B657130794B94E6281F469</td>\n",
       "      <td>CMT</td>\n",
       "      <td>1</td>\n",
       "      <td>N</td>\n",
       "      <td>2013-07-23 06:59:03</td>\n",
       "      <td>2013-07-23 07:00:58</td>\n",
       "      <td>1</td>\n",
       "      <td>115</td>\n",
       "      <td>0.50</td>\n",
       "      <td>-73.939659</td>\n",
       "      <td>40.810116</td>\n",
       "      <td>-73.938477</td>\n",
       "      <td>40.804726</td>\n",
       "    </tr>\n",
       "    <tr>\n",
       "      <th>11928285</th>\n",
       "      <td>539F70E88324AD888C52D6D58FF31AD6</td>\n",
       "      <td>2CE60CFF2F8A4CE0838D523C78D95934</td>\n",
       "      <td>CMT</td>\n",
       "      <td>1</td>\n",
       "      <td>N</td>\n",
       "      <td>2013-07-30 16:12:45</td>\n",
       "      <td>2013-07-30 16:33:58</td>\n",
       "      <td>1</td>\n",
       "      <td>1273</td>\n",
       "      <td>3.40</td>\n",
       "      <td>-73.988518</td>\n",
       "      <td>40.754047</td>\n",
       "      <td>-73.956482</td>\n",
       "      <td>40.775444</td>\n",
       "    </tr>\n",
       "    <tr>\n",
       "      <th>11846935</th>\n",
       "      <td>82A1032C25A2E4CFE244FF9976FBD3C9</td>\n",
       "      <td>77876603CB505E30C3F0E7BC9CDAB743</td>\n",
       "      <td>CMT</td>\n",
       "      <td>1</td>\n",
       "      <td>N</td>\n",
       "      <td>2013-07-30 00:30:49</td>\n",
       "      <td>2013-07-30 00:37:54</td>\n",
       "      <td>1</td>\n",
       "      <td>425</td>\n",
       "      <td>1.50</td>\n",
       "      <td>-73.986732</td>\n",
       "      <td>40.729572</td>\n",
       "      <td>-74.005615</td>\n",
       "      <td>40.725803</td>\n",
       "    </tr>\n",
       "    <tr>\n",
       "      <th>5625271</th>\n",
       "      <td>A9DF8BDBEA3E57580A539596AA5D8B69</td>\n",
       "      <td>AD3A4A8ABECCCBA549D917BB47CCECE4</td>\n",
       "      <td>VTS</td>\n",
       "      <td>1</td>\n",
       "      <td>NaN</td>\n",
       "      <td>2013-07-27 04:16:00</td>\n",
       "      <td>2013-07-27 04:27:00</td>\n",
       "      <td>5</td>\n",
       "      <td>660</td>\n",
       "      <td>3.64</td>\n",
       "      <td>-73.985245</td>\n",
       "      <td>40.758533</td>\n",
       "      <td>-73.947746</td>\n",
       "      <td>40.779224</td>\n",
       "    </tr>\n",
       "    <tr>\n",
       "      <th>5894872</th>\n",
       "      <td>0076C8327A95E988E721AC33B0FA9D67</td>\n",
       "      <td>7BDFF06419C23F667C5D69EEFBF091BE</td>\n",
       "      <td>CMT</td>\n",
       "      <td>1</td>\n",
       "      <td>N</td>\n",
       "      <td>2013-07-01 00:57:42</td>\n",
       "      <td>2013-07-01 01:03:06</td>\n",
       "      <td>1</td>\n",
       "      <td>324</td>\n",
       "      <td>1.90</td>\n",
       "      <td>-74.002159</td>\n",
       "      <td>40.740318</td>\n",
       "      <td>-73.985100</td>\n",
       "      <td>40.763668</td>\n",
       "    </tr>\n",
       "    <tr>\n",
       "      <th>528983</th>\n",
       "      <td>6652CE5ACEF5E414C6FFEA71A8DB86F3</td>\n",
       "      <td>8333EAE5BE5879C45DB2CB0A2C7CF5F1</td>\n",
       "      <td>VTS</td>\n",
       "      <td>1</td>\n",
       "      <td>NaN</td>\n",
       "      <td>2013-07-13 01:03:00</td>\n",
       "      <td>2013-07-13 01:11:00</td>\n",
       "      <td>1</td>\n",
       "      <td>480</td>\n",
       "      <td>1.95</td>\n",
       "      <td>-74.012405</td>\n",
       "      <td>40.706726</td>\n",
       "      <td>-73.994377</td>\n",
       "      <td>40.717316</td>\n",
       "    </tr>\n",
       "    <tr>\n",
       "      <th>4835906</th>\n",
       "      <td>8A9B39E0936ABB3D5F7933D187FC6655</td>\n",
       "      <td>DA964D248F82D1100B754D49D2A835B6</td>\n",
       "      <td>VTS</td>\n",
       "      <td>1</td>\n",
       "      <td>NaN</td>\n",
       "      <td>2013-07-23 23:18:00</td>\n",
       "      <td>2013-07-23 23:29:00</td>\n",
       "      <td>1</td>\n",
       "      <td>660</td>\n",
       "      <td>3.39</td>\n",
       "      <td>-73.972725</td>\n",
       "      <td>40.760452</td>\n",
       "      <td>-73.962524</td>\n",
       "      <td>40.797302</td>\n",
       "    </tr>\n",
       "    <tr>\n",
       "      <th>1564421</th>\n",
       "      <td>F3B0E04AF07F5667AD64771DA60BD2FD</td>\n",
       "      <td>1CF5209424E06360D8ACD4C78730FE34</td>\n",
       "      <td>VTS</td>\n",
       "      <td>1</td>\n",
       "      <td>NaN</td>\n",
       "      <td>2013-07-17 12:20:00</td>\n",
       "      <td>2013-07-17 12:50:00</td>\n",
       "      <td>6</td>\n",
       "      <td>1800</td>\n",
       "      <td>5.59</td>\n",
       "      <td>-73.980019</td>\n",
       "      <td>40.755356</td>\n",
       "      <td>-73.927177</td>\n",
       "      <td>40.770683</td>\n",
       "    </tr>\n",
       "  </tbody>\n",
       "</table>\n",
       "</div>"
      ],
      "text/plain": [
       "                                 medallion                      hack_license  \\\n",
       "1456979   59A3962EF65E5B44C804E842F5F7D04C  1D4EF564697EFE2C4CB60668988CDD23   \n",
       "2245313   F3F85F66A0CB41DBF3386621C35F7030  86C610305A36FF53508F34C08D021DA4   \n",
       "10784913  5E58DD84EB159B99D70618A36987F3AE  FCB409DEF4B657130794B94E6281F469   \n",
       "11928285  539F70E88324AD888C52D6D58FF31AD6  2CE60CFF2F8A4CE0838D523C78D95934   \n",
       "11846935  82A1032C25A2E4CFE244FF9976FBD3C9  77876603CB505E30C3F0E7BC9CDAB743   \n",
       "5625271   A9DF8BDBEA3E57580A539596AA5D8B69  AD3A4A8ABECCCBA549D917BB47CCECE4   \n",
       "5894872   0076C8327A95E988E721AC33B0FA9D67  7BDFF06419C23F667C5D69EEFBF091BE   \n",
       "528983    6652CE5ACEF5E414C6FFEA71A8DB86F3  8333EAE5BE5879C45DB2CB0A2C7CF5F1   \n",
       "4835906   8A9B39E0936ABB3D5F7933D187FC6655  DA964D248F82D1100B754D49D2A835B6   \n",
       "1564421   F3B0E04AF07F5667AD64771DA60BD2FD  1CF5209424E06360D8ACD4C78730FE34   \n",
       "\n",
       "          vendor_id   rate_code  store_and_fwd_flag      pickup_datetime  \\\n",
       "1456979         VTS           1                 NaN  2013-07-16 23:25:00   \n",
       "2245313         VTS           1                 NaN  2013-07-03 22:39:00   \n",
       "10784913        CMT           1                   N  2013-07-23 06:59:03   \n",
       "11928285        CMT           1                   N  2013-07-30 16:12:45   \n",
       "11846935        CMT           1                   N  2013-07-30 00:30:49   \n",
       "5625271         VTS           1                 NaN  2013-07-27 04:16:00   \n",
       "5894872         CMT           1                   N  2013-07-01 00:57:42   \n",
       "528983          VTS           1                 NaN  2013-07-13 01:03:00   \n",
       "4835906         VTS           1                 NaN  2013-07-23 23:18:00   \n",
       "1564421         VTS           1                 NaN  2013-07-17 12:20:00   \n",
       "\n",
       "             dropoff_datetime   passenger_count   trip_time_in_secs  \\\n",
       "1456979   2013-07-16 23:47:00                 1                1320   \n",
       "2245313   2013-07-03 23:07:00                 1                1680   \n",
       "10784913  2013-07-23 07:00:58                 1                 115   \n",
       "11928285  2013-07-30 16:33:58                 1                1273   \n",
       "11846935  2013-07-30 00:37:54                 1                 425   \n",
       "5625271   2013-07-27 04:27:00                 5                 660   \n",
       "5894872   2013-07-01 01:03:06                 1                 324   \n",
       "528983    2013-07-13 01:11:00                 1                 480   \n",
       "4835906   2013-07-23 23:29:00                 1                 660   \n",
       "1564421   2013-07-17 12:50:00                 6                1800   \n",
       "\n",
       "           trip_distance   pickup_longitude   pickup_latitude  \\\n",
       "1456979             4.92         -73.987663         40.748253   \n",
       "2245313             4.17         -74.003624         40.723835   \n",
       "10784913            0.50         -73.939659         40.810116   \n",
       "11928285            3.40         -73.988518         40.754047   \n",
       "11846935            1.50         -73.986732         40.729572   \n",
       "5625271             3.64         -73.985245         40.758533   \n",
       "5894872             1.90         -74.002159         40.740318   \n",
       "528983              1.95         -74.012405         40.706726   \n",
       "4835906             3.39         -73.972725         40.760452   \n",
       "1564421             5.59         -73.980019         40.755356   \n",
       "\n",
       "           dropoff_longitude   dropoff_latitude  \n",
       "1456979           -73.951500          40.710869  \n",
       "2245313           -73.980698          40.762962  \n",
       "10784913          -73.938477          40.804726  \n",
       "11928285          -73.956482          40.775444  \n",
       "11846935          -74.005615          40.725803  \n",
       "5625271           -73.947746          40.779224  \n",
       "5894872           -73.985100          40.763668  \n",
       "528983            -73.994377          40.717316  \n",
       "4835906           -73.962524          40.797302  \n",
       "1564421           -73.927177          40.770683  "
      ]
     },
     "execution_count": 7,
     "metadata": {},
     "output_type": "execute_result"
    }
   ],
   "source": [
    "# import pandas as pd\n",
    "# data = pd.read_csv('trip_data_7.csv')\n",
    "# data.sample(10)"
   ]
  },
  {
   "cell_type": "code",
   "execution_count": 2,
   "metadata": {},
   "outputs": [],
   "source": [
    "row_count = sum(1 for row in data)  # fileObject is your csv.reader"
   ]
  },
  {
   "cell_type": "code",
   "execution_count": 5,
   "metadata": {},
   "outputs": [
    {
     "name": "stdout",
     "output_type": "stream",
     "text": [
      "Total time:  65.13316178321838\n"
     ]
    }
   ],
   "source": [
    "import csv \n",
    "import time\n",
    "n=0\n",
    "start= time.time()\n",
    "with open('trip_data_7.csv', 'r') as f: \n",
    "    reader = csv.reader(f)\n",
    "    for i,line in enumerate(reader):\n",
    "        if 'VTS' in line[3]:\n",
    "            n+=1\n",
    "print(\"Total time:  \" + str(time.time() - start))\n"
   ]
  },
  {
   "cell_type": "code",
   "execution_count": null,
   "metadata": {},
   "outputs": [],
   "source": [
    "# import csv \n",
    "# import time\n",
    "\n",
    "# start = time.time()\n",
    "\n",
    "# with open('trip_data_7.csv', 'r') as f:\n",
    "#     trip_data = [{k: str(v) for k, v in row.items()}\n",
    "#                 for row in csv.DictReader(f,skipinitialspace = True)]\n",
    "    \n",
    "# print(\"Loading Time: \" + str(time.time() - start))\n",
    "\n",
    "# start2 = time.time()\n",
    "# for row in trip_data: \n",
    "#     if 'VTS' in row['vendor_id']:\n",
    "#         n +=1\n",
    "# print(\"Searching time: \" + str(time.time() - start2))\n",
    "\n",
    "# print(\"Total time: \" + str(time.time() - start))\n"
   ]
  },
  {
   "cell_type": "code",
   "execution_count": null,
   "metadata": {},
   "outputs": [],
   "source": [
    "# import pymysql\n",
    "# import csv\n",
    "# import time\n",
    "\n",
    "# start = time.time()\n",
    "\n",
    "# conn = pymyql.connect(host='workzone.homeip.net', port=3306, user= 'ia626', passwd = 'ia626clarkson', db='ia626', autocomit =True)\n",
    "\n",
    "# #setup credentials\n",
    "# cur = conn.cursor(pymysql.cursors.DictCursor)\n",
    "\n",
    "# cur.execute(\"TRUNCATE TABLE 'rashid_trip'\")\n",
    "\n",
    "# blocksize = [200]\n",
    "# for bs in blocksize:\n",
    "#     i= 0\n",
    "#     sql = ''\n",
    "#     tokens = []\n",
    "#     with open('trip_data_7.csv', 'rb') as f:\n",
    "#         reader = csv.reader(f)\n",
    "#         for i, row in enumerate(reader):\n",
    "#             sql += \"INSERT INTO rashid_trip (``,``, ,\\\n",
    "#             ``, `` ) VALUES (%s,%s,%s);\"\n",
    "#             tokens.extend([row[0], row[1],row[3],.... row[9]])\n",
    "#             #print(conn.insert_id())\n",
    "#             if i % bs == 0:\n",
    "#                 cur.execute(sql,tokens)\n",
    "#                 print(i)\n",
    "#                 sql = ''\n",
    "#                 tokens = []\n",
    "                \n",
    "#             i+=1\n",
    "#         if len(sql) > 0:\n",
    "#             cur.execute(sql,tokens)\n",
    "#             print(i)\n",
    "# print(\"Total Time  : \" + str(time.time() - start))\n",
    "\n",
    "# cure.close()\n",
    "# conn.close()\n"
   ]
  },
  {
   "cell_type": "code",
   "execution_count": null,
   "metadata": {},
   "outputs": [],
   "source": [
    "# import pymysql\n",
    "# import csv\n",
    "# import time\n",
    "\n",
    "# start = time.time()\n",
    "\n",
    "# with open('trip_data_7.csv') as f: \n",
    "#     trip_data = [{k:str(v) for k, v in row.items()}\n",
    "#            for row in csv.DictReader(f, skipinitialspace=True)]\n",
    "    \n",
    "# conn = pymyql.connect(host='workzone.homeip.net', port=3306, user= 'ia626', passwd = 'ia626clarkson', db='ia626', autocomit =True)\n",
    "\n",
    "# #setup credentials\n",
    "# cur = conn.cursor(pymysql.cursors.DictCursor)\n",
    "\n",
    "# cur.execute(\"TRUNCATE TABLE 'rashid_trip'\")\n",
    "\n",
    "# blocksize = [200]\n",
    "# for bs in blocksize:\n",
    "#     i= 0\n",
    "#     sql = ''\n",
    "#     tokens = []\n",
    "#     for row in trip_data:\n",
    "#         sql += \"INSERT INTO rashid_trip (``,``, ,\\\n",
    "#         ``, `` ) VALUES (%s,%s,%s);\"\n",
    "#         tokens.extend([row[\"key1\"], row[\"Key2\"],row[\"\"],.... row[\"Key9\"]])\n",
    "#         #print(conn.insert_id())\n",
    "#         if i % bs == 0:\n",
    "#             cur.execute(sql,tokens)\n",
    "#             print(i)\n",
    "#             sql = ''\n",
    "#             tokens = []\n",
    "\n",
    "#         i+=1\n",
    "#     if len(sql) > 0:\n",
    "#         cur.execute(sql,tokens)\n",
    "#         print(i)\n",
    "# print(\"Total Time  : \" + str(time.time() - start))\n",
    "\n",
    "# cure.close()\n",
    "# conn.close()\n"
   ]
  },
  {
   "cell_type": "code",
   "execution_count": null,
   "metadata": {},
   "outputs": [],
   "source": []
  },
  {
   "cell_type": "code",
   "execution_count": 14,
   "metadata": {},
   "outputs": [
    {
     "data": {
      "text/plain": [
       "'2013-07-01 01:39:00'"
      ]
     },
     "execution_count": 14,
     "metadata": {},
     "output_type": "execute_result"
    }
   ],
   "source": [
    "data[1]['pickup_datetime']"
   ]
  },
  {
   "cell_type": "code",
   "execution_count": 8,
   "metadata": {},
   "outputs": [
    {
     "data": {
      "text/plain": [
       "dict_keys(['medallion', 'hack_license', 'vendor_id', 'rate_code', 'store_and_fwd_flag', 'pickup_datetime', 'dropoff_datetime', 'passenger_count', 'trip_time_in_secs', 'trip_distance', 'pickup_longitude', 'pickup_latitude', 'dropoff_longitude', 'dropoff_latitude'])"
      ]
     },
     "execution_count": 8,
     "metadata": {},
     "output_type": "execute_result"
    }
   ],
   "source": [
    "# df = data\n",
    "data[1].keys()"
   ]
  },
  {
   "cell_type": "code",
   "execution_count": 22,
   "metadata": {},
   "outputs": [
    {
     "data": {
      "text/plain": [
       "{'medallion': '8C6CFF1ED34957DCF1547C3C38EE0490',\n",
       " 'hack_license': '65AB951A1B846C3B0581A8A473830F73',\n",
       " 'vendor_id': 'VTS',\n",
       " 'rate_code': '1',\n",
       " 'store_and_fwd_flag': '',\n",
       " 'pickup_datetime': '2013-07-01 01:47:00',\n",
       " 'dropoff_datetime': '2013-07-01 01:59:00',\n",
       " 'passenger_count': '1',\n",
       " 'trip_time_in_secs': '720',\n",
       " 'trip_distance': '1.76',\n",
       " 'pickup_longitude': '-74.00563',\n",
       " 'pickup_latitude': '40.726448',\n",
       " 'dropoff_longitude': '-74.003906',\n",
       " 'dropoff_latitude': '40.742031'}"
      ]
     },
     "execution_count": 22,
     "metadata": {},
     "output_type": "execute_result"
    }
   ],
   "source": [
    "data[4]"
   ]
  },
  {
   "cell_type": "code",
   "execution_count": 15,
   "metadata": {},
   "outputs": [],
   "source": [
    "# # data[data.columns[0]].count()\n",
    "# df.columns.values"
   ]
  },
  {
   "cell_type": "code",
   "execution_count": 36,
   "metadata": {},
   "outputs": [],
   "source": [
    "# # 1. Create a list of columns to be selected\n",
    "# columns_to_be_selected = [' pickup_datetime', ' dropoff_datetime']\n",
    "# # 2. Use it as an index to the DataFrame\n",
    "# df[columns_to_be_selected]\n",
    "# # 3. Using loc method\n",
    "# df.loc[columns_to_be_selected]"
   ]
  },
  {
   "cell_type": "code",
   "execution_count": 18,
   "metadata": {},
   "outputs": [
    {
     "name": "stdout",
     "output_type": "stream",
     "text": [
      "2013-07-01 01:53:00\n"
     ]
    }
   ],
   "source": [
    "print(data[3]['pickup_datetime'])"
   ]
  },
  {
   "cell_type": "code",
   "execution_count": 20,
   "metadata": {
    "collapsed": true,
    "jupyter": {
     "outputs_hidden": true
    }
   },
   "outputs": [
    {
     "data": {
      "text/plain": [
       "0           2013-07-01 01:47:00\n",
       "1           2013-07-01 01:39:00\n",
       "2           2013-07-01 01:36:00\n",
       "3           2013-07-01 01:53:00\n",
       "4           2013-07-01 01:47:00\n",
       "                   ...         \n",
       "13823835    2013-07-01 01:45:00\n",
       "13823836    2013-07-01 01:17:00\n",
       "13823837    2013-07-01 01:36:00\n",
       "13823838    2013-07-01 01:46:00\n",
       "13823839    2013-07-01 01:34:00\n",
       "Name:  pickup_datetime, Length: 13823840, dtype: object"
      ]
     },
     "execution_count": 20,
     "metadata": {},
     "output_type": "execute_result"
    }
   ],
   "source": [
    "# formate is %Y-%m-%d %H:%M:%S\n",
    "import datetime as dt\n",
    "# data[:]['pickup_datetime'] = pd.to_datetime(df[' pickup_datetime']) \n",
    "date_range = str(data['pickup_datetime'].dt.date.min()) + ' to ' +str(data['pickup_datetime'].dt.date.max())"
   ]
  },
  {
   "cell_type": "code",
   "execution_count": 24,
   "metadata": {},
   "outputs": [],
   "source": [
    "# formate is %Y-%m-%d %H:%M:%S\n",
    "import datetime as dt\n",
    "df[' pickup_datetime'] = pd.to_datetime(df[' pickup_datetime']) \n",
    "date_range = str(df[' pickup_datetime'].dt.date.min()) + ' to ' +str(df[' pickup_datetime'].dt.date.max())"
   ]
  },
  {
   "cell_type": "code",
   "execution_count": 30,
   "metadata": {},
   "outputs": [
    {
     "name": "stdout",
     "output_type": "stream",
     "text": [
      "2013-07-01 to 2013-07-31\n"
     ]
    }
   ],
   "source": [
    "print(date_range)\n",
    "# df[' pickup_datetime'].dt.date   "
   ]
  },
  {
   "cell_type": "code",
   "execution_count": 38,
   "metadata": {},
   "outputs": [
    {
     "data": {
      "text/html": [
       "<div>\n",
       "<style scoped>\n",
       "    .dataframe tbody tr th:only-of-type {\n",
       "        vertical-align: middle;\n",
       "    }\n",
       "\n",
       "    .dataframe tbody tr th {\n",
       "        vertical-align: top;\n",
       "    }\n",
       "\n",
       "    .dataframe thead th {\n",
       "        text-align: right;\n",
       "    }\n",
       "</style>\n",
       "<table border=\"1\" class=\"dataframe\">\n",
       "  <thead>\n",
       "    <tr style=\"text-align: right;\">\n",
       "      <th></th>\n",
       "      <th>medallion</th>\n",
       "      <th>hack_license</th>\n",
       "      <th>vendor_id</th>\n",
       "      <th>rate_code</th>\n",
       "      <th>store_and_fwd_flag</th>\n",
       "      <th>pickup_datetime</th>\n",
       "      <th>dropoff_datetime</th>\n",
       "      <th>passenger_count</th>\n",
       "      <th>trip_time_in_secs</th>\n",
       "      <th>trip_distance</th>\n",
       "      <th>pickup_longitude</th>\n",
       "      <th>pickup_latitude</th>\n",
       "      <th>dropoff_longitude</th>\n",
       "      <th>dropoff_latitude</th>\n",
       "    </tr>\n",
       "  </thead>\n",
       "  <tbody>\n",
       "    <tr>\n",
       "      <th>0</th>\n",
       "      <td>9406D2C34715E1DA10AD4D4DDADF4DA5</td>\n",
       "      <td>0602DFD837433635FE860BDE2F14BC3A</td>\n",
       "      <td>VTS</td>\n",
       "      <td>1</td>\n",
       "      <td>NaN</td>\n",
       "      <td>2013-07-01 01:47:00</td>\n",
       "      <td>2013-07-01 01:52:00</td>\n",
       "      <td>1</td>\n",
       "      <td>300</td>\n",
       "      <td>1.17</td>\n",
       "      <td>-74.013229</td>\n",
       "      <td>40.714718</td>\n",
       "      <td>-74.003494</td>\n",
       "      <td>40.725285</td>\n",
       "    </tr>\n",
       "    <tr>\n",
       "      <th>1</th>\n",
       "      <td>73495B48481E673AD8D7578764C9EC98</td>\n",
       "      <td>66DA261DA2E0305435786C152085CCC2</td>\n",
       "      <td>VTS</td>\n",
       "      <td>1</td>\n",
       "      <td>NaN</td>\n",
       "      <td>2013-07-01 01:39:00</td>\n",
       "      <td>2013-07-01 01:52:00</td>\n",
       "      <td>1</td>\n",
       "      <td>780</td>\n",
       "      <td>4.17</td>\n",
       "      <td>-73.980865</td>\n",
       "      <td>40.763947</td>\n",
       "      <td>-73.933884</td>\n",
       "      <td>40.767677</td>\n",
       "    </tr>\n",
       "    <tr>\n",
       "      <th>2</th>\n",
       "      <td>85B6168FC88F4914E4741015B1678BF4</td>\n",
       "      <td>C2DB36C1124AB69269DBE1D3D39D37DB</td>\n",
       "      <td>VTS</td>\n",
       "      <td>1</td>\n",
       "      <td>NaN</td>\n",
       "      <td>2013-07-01 01:36:00</td>\n",
       "      <td>2013-07-01 01:50:00</td>\n",
       "      <td>1</td>\n",
       "      <td>840</td>\n",
       "      <td>2.98</td>\n",
       "      <td>-74.007568</td>\n",
       "      <td>40.740898</td>\n",
       "      <td>-73.980118</td>\n",
       "      <td>40.713985</td>\n",
       "    </tr>\n",
       "    <tr>\n",
       "      <th>3</th>\n",
       "      <td>85B6168FC88F4914E4741015B1678BF4</td>\n",
       "      <td>C2DB36C1124AB69269DBE1D3D39D37DB</td>\n",
       "      <td>VTS</td>\n",
       "      <td>1</td>\n",
       "      <td>NaN</td>\n",
       "      <td>2013-07-01 01:53:00</td>\n",
       "      <td>2013-07-01 01:57:00</td>\n",
       "      <td>1</td>\n",
       "      <td>240</td>\n",
       "      <td>0.75</td>\n",
       "      <td>-73.985466</td>\n",
       "      <td>40.718342</td>\n",
       "      <td>-73.982841</td>\n",
       "      <td>40.727016</td>\n",
       "    </tr>\n",
       "    <tr>\n",
       "      <th>4</th>\n",
       "      <td>8C6CFF1ED34957DCF1547C3C38EE0490</td>\n",
       "      <td>65AB951A1B846C3B0581A8A473830F73</td>\n",
       "      <td>VTS</td>\n",
       "      <td>1</td>\n",
       "      <td>NaN</td>\n",
       "      <td>2013-07-01 01:47:00</td>\n",
       "      <td>2013-07-01 01:59:00</td>\n",
       "      <td>1</td>\n",
       "      <td>720</td>\n",
       "      <td>1.76</td>\n",
       "      <td>-74.005630</td>\n",
       "      <td>40.726448</td>\n",
       "      <td>-74.003906</td>\n",
       "      <td>40.742031</td>\n",
       "    </tr>\n",
       "  </tbody>\n",
       "</table>\n",
       "</div>"
      ],
      "text/plain": [
       "                          medallion                      hack_license  \\\n",
       "0  9406D2C34715E1DA10AD4D4DDADF4DA5  0602DFD837433635FE860BDE2F14BC3A   \n",
       "1  73495B48481E673AD8D7578764C9EC98  66DA261DA2E0305435786C152085CCC2   \n",
       "2  85B6168FC88F4914E4741015B1678BF4  C2DB36C1124AB69269DBE1D3D39D37DB   \n",
       "3  85B6168FC88F4914E4741015B1678BF4  C2DB36C1124AB69269DBE1D3D39D37DB   \n",
       "4  8C6CFF1ED34957DCF1547C3C38EE0490  65AB951A1B846C3B0581A8A473830F73   \n",
       "\n",
       "   vendor_id   rate_code  store_and_fwd_flag     pickup_datetime  \\\n",
       "0        VTS           1                 NaN 2013-07-01 01:47:00   \n",
       "1        VTS           1                 NaN 2013-07-01 01:39:00   \n",
       "2        VTS           1                 NaN 2013-07-01 01:36:00   \n",
       "3        VTS           1                 NaN 2013-07-01 01:53:00   \n",
       "4        VTS           1                 NaN 2013-07-01 01:47:00   \n",
       "\n",
       "      dropoff_datetime   passenger_count   trip_time_in_secs   trip_distance  \\\n",
       "0  2013-07-01 01:52:00                 1                 300            1.17   \n",
       "1  2013-07-01 01:52:00                 1                 780            4.17   \n",
       "2  2013-07-01 01:50:00                 1                 840            2.98   \n",
       "3  2013-07-01 01:57:00                 1                 240            0.75   \n",
       "4  2013-07-01 01:59:00                 1                 720            1.76   \n",
       "\n",
       "    pickup_longitude   pickup_latitude   dropoff_longitude   dropoff_latitude  \n",
       "0         -74.013229         40.714718          -74.003494          40.725285  \n",
       "1         -73.980865         40.763947          -73.933884          40.767677  \n",
       "2         -74.007568         40.740898          -73.980118          40.713985  \n",
       "3         -73.985466         40.718342          -73.982841          40.727016  \n",
       "4         -74.005630         40.726448          -74.003906          40.742031  "
      ]
     },
     "execution_count": 38,
     "metadata": {},
     "output_type": "execute_result"
    }
   ],
   "source": [
    "# df.iloc[0:3, :]\n",
    "df.head()"
   ]
  },
  {
   "cell_type": "code",
   "execution_count": 43,
   "metadata": {},
   "outputs": [
    {
     "data": {
      "text/html": [
       "<div>\n",
       "<style scoped>\n",
       "    .dataframe tbody tr th:only-of-type {\n",
       "        vertical-align: middle;\n",
       "    }\n",
       "\n",
       "    .dataframe tbody tr th {\n",
       "        vertical-align: top;\n",
       "    }\n",
       "\n",
       "    .dataframe thead th {\n",
       "        text-align: right;\n",
       "    }\n",
       "</style>\n",
       "<table border=\"1\" class=\"dataframe\">\n",
       "  <thead>\n",
       "    <tr style=\"text-align: right;\">\n",
       "      <th></th>\n",
       "      <th>rate_code</th>\n",
       "      <th>passenger_count</th>\n",
       "      <th>trip_time_in_secs</th>\n",
       "      <th>trip_distance</th>\n",
       "      <th>pickup_longitude</th>\n",
       "      <th>pickup_latitude</th>\n",
       "      <th>dropoff_longitude</th>\n",
       "      <th>dropoff_latitude</th>\n",
       "    </tr>\n",
       "  </thead>\n",
       "  <tbody>\n",
       "    <tr>\n",
       "      <th>count</th>\n",
       "      <td>1.382384e+07</td>\n",
       "      <td>1.382384e+07</td>\n",
       "      <td>1.382384e+07</td>\n",
       "      <td>1.382384e+07</td>\n",
       "      <td>1.382384e+07</td>\n",
       "      <td>1.382384e+07</td>\n",
       "      <td>1.382314e+07</td>\n",
       "      <td>1.382314e+07</td>\n",
       "    </tr>\n",
       "    <tr>\n",
       "      <th>mean</th>\n",
       "      <td>1.032433e+00</td>\n",
       "      <td>1.724331e+00</td>\n",
       "      <td>7.495074e+02</td>\n",
       "      <td>2.904796e+00</td>\n",
       "      <td>-7.288411e+01</td>\n",
       "      <td>4.014884e+01</td>\n",
       "      <td>-7.283900e+01</td>\n",
       "      <td>4.012345e+01</td>\n",
       "    </tr>\n",
       "    <tr>\n",
       "      <th>std</th>\n",
       "      <td>3.125351e-01</td>\n",
       "      <td>1.388857e+00</td>\n",
       "      <td>5.565799e+02</td>\n",
       "      <td>3.381533e+00</td>\n",
       "      <td>8.999069e+00</td>\n",
       "      <td>5.555792e+00</td>\n",
       "      <td>9.190940e+00</td>\n",
       "      <td>5.515097e+00</td>\n",
       "    </tr>\n",
       "    <tr>\n",
       "      <th>min</th>\n",
       "      <td>0.000000e+00</td>\n",
       "      <td>0.000000e+00</td>\n",
       "      <td>0.000000e+00</td>\n",
       "      <td>0.000000e+00</td>\n",
       "      <td>-2.355738e+03</td>\n",
       "      <td>-3.114562e+03</td>\n",
       "      <td>-2.352800e+03</td>\n",
       "      <td>-3.447916e+03</td>\n",
       "    </tr>\n",
       "    <tr>\n",
       "      <th>25%</th>\n",
       "      <td>1.000000e+00</td>\n",
       "      <td>1.000000e+00</td>\n",
       "      <td>3.600000e+02</td>\n",
       "      <td>1.070000e+00</td>\n",
       "      <td>-7.399251e+01</td>\n",
       "      <td>4.073457e+01</td>\n",
       "      <td>-7.399177e+01</td>\n",
       "      <td>4.073373e+01</td>\n",
       "    </tr>\n",
       "    <tr>\n",
       "      <th>50%</th>\n",
       "      <td>1.000000e+00</td>\n",
       "      <td>1.000000e+00</td>\n",
       "      <td>6.000000e+02</td>\n",
       "      <td>1.800000e+00</td>\n",
       "      <td>-7.398219e+01</td>\n",
       "      <td>4.075203e+01</td>\n",
       "      <td>-7.398090e+01</td>\n",
       "      <td>4.075246e+01</td>\n",
       "    </tr>\n",
       "    <tr>\n",
       "      <th>75%</th>\n",
       "      <td>1.000000e+00</td>\n",
       "      <td>2.000000e+00</td>\n",
       "      <td>9.600000e+02</td>\n",
       "      <td>3.200000e+00</td>\n",
       "      <td>-7.396814e+01</td>\n",
       "      <td>4.076572e+01</td>\n",
       "      <td>-7.396532e+01</td>\n",
       "      <td>4.076633e+01</td>\n",
       "    </tr>\n",
       "    <tr>\n",
       "      <th>max</th>\n",
       "      <td>2.100000e+02</td>\n",
       "      <td>8.000000e+00</td>\n",
       "      <td>1.080000e+04</td>\n",
       "      <td>1.000000e+02</td>\n",
       "      <td>1.200160e+02</td>\n",
       "      <td>3.210367e+03</td>\n",
       "      <td>1.428736e+03</td>\n",
       "      <td>4.739997e+02</td>\n",
       "    </tr>\n",
       "  </tbody>\n",
       "</table>\n",
       "</div>"
      ],
      "text/plain": [
       "          rate_code   passenger_count   trip_time_in_secs   trip_distance  \\\n",
       "count  1.382384e+07      1.382384e+07        1.382384e+07    1.382384e+07   \n",
       "mean   1.032433e+00      1.724331e+00        7.495074e+02    2.904796e+00   \n",
       "std    3.125351e-01      1.388857e+00        5.565799e+02    3.381533e+00   \n",
       "min    0.000000e+00      0.000000e+00        0.000000e+00    0.000000e+00   \n",
       "25%    1.000000e+00      1.000000e+00        3.600000e+02    1.070000e+00   \n",
       "50%    1.000000e+00      1.000000e+00        6.000000e+02    1.800000e+00   \n",
       "75%    1.000000e+00      2.000000e+00        9.600000e+02    3.200000e+00   \n",
       "max    2.100000e+02      8.000000e+00        1.080000e+04    1.000000e+02   \n",
       "\n",
       "        pickup_longitude   pickup_latitude   dropoff_longitude  \\\n",
       "count       1.382384e+07      1.382384e+07        1.382314e+07   \n",
       "mean       -7.288411e+01      4.014884e+01       -7.283900e+01   \n",
       "std         8.999069e+00      5.555792e+00        9.190940e+00   \n",
       "min        -2.355738e+03     -3.114562e+03       -2.352800e+03   \n",
       "25%        -7.399251e+01      4.073457e+01       -7.399177e+01   \n",
       "50%        -7.398219e+01      4.075203e+01       -7.398090e+01   \n",
       "75%        -7.396814e+01      4.076572e+01       -7.396532e+01   \n",
       "max         1.200160e+02      3.210367e+03        1.428736e+03   \n",
       "\n",
       "        dropoff_latitude  \n",
       "count       1.382314e+07  \n",
       "mean        4.012345e+01  \n",
       "std         5.515097e+00  \n",
       "min        -3.447916e+03  \n",
       "25%         4.073373e+01  \n",
       "50%         4.075246e+01  \n",
       "75%         4.076633e+01  \n",
       "max         4.739997e+02  "
      ]
     },
     "execution_count": 43,
     "metadata": {},
     "output_type": "execute_result"
    }
   ],
   "source": [
    "df.describe()"
   ]
  },
  {
   "cell_type": "code",
   "execution_count": 61,
   "metadata": {},
   "outputs": [
    {
     "data": {
      "text/plain": [
       "array(['VTS', 'CMT'], dtype=object)"
      ]
     },
     "execution_count": 61,
     "metadata": {},
     "output_type": "execute_result"
    }
   ],
   "source": [
    "df[\" vendor_id\"].unique()"
   ]
  },
  {
   "cell_type": "code",
   "execution_count": 56,
   "metadata": {},
   "outputs": [
    {
     "data": {
      "text/plain": [
       "array([  1,   5,   3,   2,   4,   8,   0,   6, 210,   7,   9], dtype=int64)"
      ]
     },
     "execution_count": 56,
     "metadata": {},
     "output_type": "execute_result"
    }
   ],
   "source": [
    "df[\" rate_code\"].unique()"
   ]
  },
  {
   "cell_type": "code",
   "execution_count": 57,
   "metadata": {},
   "outputs": [
    {
     "data": {
      "text/plain": [
       "array([nan, 'N', 'Y'], dtype=object)"
      ]
     },
     "execution_count": 57,
     "metadata": {},
     "output_type": "execute_result"
    }
   ],
   "source": [
    "df[\" store_and_fwd_flag\"].unique()"
   ]
  },
  {
   "cell_type": "code",
   "execution_count": 59,
   "metadata": {},
   "outputs": [
    {
     "data": {
      "text/plain": [
       "array([1, 5, 4, 6, 2, 3, 0, 8], dtype=int64)"
      ]
     },
     "execution_count": 59,
     "metadata": {},
     "output_type": "execute_result"
    }
   ],
   "source": [
    "df[\" passenger_count\"].unique()"
   ]
  },
  {
   "cell_type": "code",
   "execution_count": 71,
   "metadata": {},
   "outputs": [
    {
     "name": "stdout",
     "output_type": "stream",
     "text": [
      "rate_code min: 0\n",
      "rate_code max: 210\n"
     ]
    }
   ],
   "source": [
    "print('rate_code min:' , df[\" rate_code\"].min())\n",
    "print('rate_code max:' , df[\" rate_code\"].max())"
   ]
  },
  {
   "cell_type": "code",
   "execution_count": 72,
   "metadata": {},
   "outputs": [
    {
     "name": "stdout",
     "output_type": "stream",
     "text": [
      "trip_time_in_secs min: 0\n",
      "trip_time_in_secs max: 10800\n"
     ]
    }
   ],
   "source": [
    "print('trip_time_in_secs min:' , df[\" trip_time_in_secs\"].min())\n",
    "print('trip_time_in_secs max:' , df[\" trip_time_in_secs\"].max())"
   ]
  },
  {
   "cell_type": "code",
   "execution_count": 70,
   "metadata": {},
   "outputs": [
    {
     "name": "stdout",
     "output_type": "stream",
     "text": [
      "trip_distance min: 0.0\n",
      "trip_distance max: 100.0\n"
     ]
    }
   ],
   "source": [
    "print('trip_distance min:' , df[\" trip_distance\"].min())\n",
    "print('trip_distance max:' , df[\" trip_distance\"].max())"
   ]
  },
  {
   "cell_type": "code",
   "execution_count": null,
   "metadata": {},
   "outputs": [],
   "source": []
  },
  {
   "cell_type": "code",
   "execution_count": 55,
   "metadata": {},
   "outputs": [
    {
     "data": {
      "text/plain": [
       "100.0"
      ]
     },
     "execution_count": 55,
     "metadata": {},
     "output_type": "execute_result"
    }
   ],
   "source": [
    "df[\" trip_distance\"].max()"
   ]
  },
  {
   "cell_type": "markdown",
   "metadata": {},
   "source": [
    "| medallion| hack_license| vendor_id| rate_code| store_and_fwd_flag| pickup_datetime| dropoff_datetime| passenger_count| trip_time_in_secs| trip_distance| pickup_longitude| pickup_latitude| dropoff_longitude| dropoff_latitude|\n",
    "| --- | --- | --- | --- | --- | --- | --- | --- | --- | --- | --- | --- | --- | --- |\n",
    "| 9406D2C34715E1DA10AD4D4DDADF4DA5 | 0602DFD837433635FE860BDE2F14BC3A | VTS | 1 | NaN | 2013-07-01 01:47:00 | 2013-07-01 01:52:00 | 1 | 300 | 1.17 | -74.013229 | 40.714718 | -74.003494 | 40.725285 |\n",
    "|73495B48481E673AD8D7578764C9EC98 | 66DA261DA2E0305435786C152085CCC2 | VTS | 1 | NaN | 2013-07-01 01:39:00 | 2013-07-01 01:52:00 | 1 | 780 | 4.17 | -73.980865 | 40.763947 | -73.933884 | 40.767677|\n",
    "|85B6168FC88F4914E4741015B1678BF4 | C2DB36C1124AB69269DBE1D3D39D37DB | VTS | 1 | NaN | 2013-07-01 01:36:00 | 2013-07-01 01:50:00 | 1 | 840 | 2.98 | -74.007568 | 40.740898 | -73.980118 | 40.713985|\n",
    "\n",
    "\n",
    "                "
   ]
  },
  {
   "cell_type": "code",
   "execution_count": 44,
   "metadata": {},
   "outputs": [
    {
     "data": {
      "text/plain": [
       "{'medallion': dtype('O'),\n",
       " ' hack_license': dtype('O'),\n",
       " ' vendor_id': dtype('O'),\n",
       " ' rate_code': dtype('int64'),\n",
       " ' store_and_fwd_flag': dtype('O'),\n",
       " ' pickup_datetime': dtype('<M8[ns]'),\n",
       " ' dropoff_datetime': dtype('O'),\n",
       " ' passenger_count': dtype('int64'),\n",
       " ' trip_time_in_secs': dtype('int64'),\n",
       " ' trip_distance': dtype('float64'),\n",
       " ' pickup_longitude': dtype('float64'),\n",
       " ' pickup_latitude': dtype('float64'),\n",
       " ' dropoff_longitude': dtype('float64'),\n",
       " ' dropoff_latitude': dtype('float64')}"
      ]
     },
     "execution_count": 44,
     "metadata": {},
     "output_type": "execute_result"
    }
   ],
   "source": [
    "dict(zip(df.columns,df.dtypes))"
   ]
  },
  {
   "cell_type": "markdown",
   "metadata": {},
   "source": [
    "| Field | dtype (SQL)    |\n",
    "| :---:   | :---: |\n",
    "| medallion | varchar(50)  |\n",
    "| hack_license | varchar(50) |\n",
    "| vendor_id | varchar(5) |\n",
    "| rate_code | int(10) |\n",
    "| store_and_fwd_flag | bool |\n",
    "| pickup_datetime | datetime |\n",
    "| dropoff_datetime | datetime |\n",
    "| passenger_count | int(10) |\n",
    "| trip_time_in_secs | int(10) |\n",
    "| trip_distance | Decimal(5,5) |\n",
    "| pickup_longitude | Decimal(9,6) |\n",
    "| pickup_latitude | Decimal(8,6) |\n",
    "| dropoff_longitude | Decimal(9,6) |\n",
    "| dropoff_latitude | Decimal(8,6) |\n"
   ]
  }
 ],
 "metadata": {
  "kernelspec": {
   "display_name": "Python 3",
   "language": "python",
   "name": "python3"
  },
  "language_info": {
   "codemirror_mode": {
    "name": "ipython",
    "version": 3
   },
   "file_extension": ".py",
   "mimetype": "text/x-python",
   "name": "python",
   "nbconvert_exporter": "python",
   "pygments_lexer": "ipython3",
   "version": "3.8.5"
  }
 },
 "nbformat": 4,
 "nbformat_minor": 4
}
